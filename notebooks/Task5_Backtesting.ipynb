{
 "cells": [
  {
   "cell_type": "code",
   "execution_count": null,
   "id": "e8618bec",
   "metadata": {},
   "outputs": [],
   "source": [
    "backtest_returns = returns.loc['2024-08-01':'2025-07-31']  # Adjust if needed\n",
    "\n",
    "optimal_weights = np.array([max_sharpe_weights['TSLA'], max_sharpe_weights['BND'], max_sharpe_weights['SPY']])\n",
    "portfolio_returns = backtest_returns @ optimal_weights  # Matrix multiply\n",
    "\n",
    "cum_port = (1 + portfolio_returns).cumprod()\n",
    "\n",
    "bench_weights = np.array([0, 0.4, 0.6])  # 0 TSLA, 40% BND, 60% SPY\n",
    "bench_returns = backtest_returns @ bench_weights\n",
    "cum_bench = (1 + bench_returns).cumprod()\n",
    "\n",
    "plt.figure(figsize=(12,6))\n",
    "plt.plot(cum_port, label='Strategy')\n",
    "plt.plot(cum_bench, label='Benchmark')\n",
    "plt.title('Cumulative Returns Comparison')\n",
    "plt.legend()\n",
    "plt.show()\n",
    "\n",
    "sharpe_port = (portfolio_returns.mean() * 252 - 0.02) / (portfolio_returns.std() * np.sqrt(252))\n",
    "# Similar for bench\n",
    "print('Strategy Sharpe:', sharpe_port)"
   ]
  }
 ],
 "metadata": {
  "language_info": {
   "name": "python"
  }
 },
 "nbformat": 4,
 "nbformat_minor": 5
}
